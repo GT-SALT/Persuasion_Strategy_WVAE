{
 "cells": [
  {
   "cell_type": "code",
   "execution_count": 36,
   "metadata": {},
   "outputs": [],
   "source": [
    "import torch\n",
    "from bertVAE import *\n",
    "import pickle\n",
    "from read_data_bert_vae import *\n",
    "from utils import *"
   ]
  },
  {
   "cell_type": "code",
   "execution_count": 102,
   "metadata": {},
   "outputs": [],
   "source": [
    "data_path = '../data/kiva/'\n",
    "n_labeled_data = 1000"
   ]
  },
  {
   "cell_type": "code",
   "execution_count": 103,
   "metadata": {},
   "outputs": [],
   "source": [
    "model = torch.load(data_path + 'model_last.pkl')"
   ]
  },
  {
   "cell_type": "code",
   "execution_count": null,
   "metadata": {},
   "outputs": [],
   "source": []
  },
  {
   "cell_type": "code",
   "execution_count": 104,
   "metadata": {},
   "outputs": [
    {
     "name": "stderr",
     "output_type": "stream",
     "text": [
      "  0%|          | 0/1000 [00:00<?, ?it/s]"
     ]
    },
    {
     "name": "stdout",
     "output_type": "stream",
     "text": [
      "{0: 0, 1: 1, 2: 0, 3: 2, 4: 3, 5: 4, 6: 0, 7: 0, 8: 5, 9: 6}\n",
      "vocab size:  30522\n"
     ]
    },
    {
     "name": "stderr",
     "output_type": "stream",
     "text": [
      "100%|██████████| 1000/1000 [00:02<00:00, 356.13it/s]\n",
      "100%|██████████| 2000/2000 [00:21<00:00, 91.68it/s] \n",
      "100%|██████████| 400/400 [00:01<00:00, 364.98it/s]\n",
      "100%|██████████| 400/400 [00:01<00:00, 338.82it/s]"
     ]
    },
    {
     "name": "stdout",
     "output_type": "stream",
     "text": [
      "#Labeled: 1000, Unlabeled 2000, Val 400, Test 400, N class 7, 5\n"
     ]
    },
    {
     "name": "stderr",
     "output_type": "stream",
     "text": [
      "\n"
     ]
    }
   ],
   "source": [
    "train_labeled_dataset, train_unlabeled_dataset, val_dataset, test_dataset, vocab_size, n_labels, doc_labels = read_data(\n",
    "        data_path=data_path, n_labeled_data=n_labeled_data, n_unlabeled_data=2000, \n",
    "    max_seq_num=6, max_seq_len=64, embedding_size=768)"
   ]
  },
  {
   "cell_type": "code",
   "execution_count": 105,
   "metadata": {},
   "outputs": [],
   "source": [
    "labeled_trainloader = Data.DataLoader(\n",
    "        dataset=train_labeled_dataset, batch_size=4, shuffle=False)\n",
    "unlabeled_trainloader = Data.DataLoader(\n",
    "    dataset=train_unlabeled_dataset, batch_size=4, shuffle=False)\n",
    "    \n",
    "val_loader = Data.DataLoader(\n",
    "        dataset=val_dataset, batch_size=4, shuffle=False)\n",
    "test_loader = Data.DataLoader(\n",
    "        dataset=test_dataset, batch_size=4, shuffle=False)   "
   ]
  },
  {
   "cell_type": "code",
   "execution_count": 106,
   "metadata": {
    "scrolled": true
   },
   "outputs": [
    {
     "data": {
      "text/plain": [
       "HierachyVAE(\n",
       "  (encoder): Encoder(\n",
       "    (bert): BertModel(\n",
       "      (embeddings): BertEmbeddings(\n",
       "        (word_embeddings): Embedding(30522, 768, padding_idx=0)\n",
       "        (position_embeddings): Embedding(512, 768)\n",
       "        (token_type_embeddings): Embedding(2, 768)\n",
       "        (LayerNorm): LayerNorm((768,), eps=1e-12, elementwise_affine=True)\n",
       "        (dropout): Dropout(p=0.1, inplace=False)\n",
       "      )\n",
       "      (encoder): BertEncoder(\n",
       "        (layer): ModuleList(\n",
       "          (0): BertLayer(\n",
       "            (attention): BertAttention(\n",
       "              (self): BertSelfAttention(\n",
       "                (query): Linear(in_features=768, out_features=768, bias=True)\n",
       "                (key): Linear(in_features=768, out_features=768, bias=True)\n",
       "                (value): Linear(in_features=768, out_features=768, bias=True)\n",
       "                (dropout): Dropout(p=0.1, inplace=False)\n",
       "              )\n",
       "              (output): BertSelfOutput(\n",
       "                (dense): Linear(in_features=768, out_features=768, bias=True)\n",
       "                (LayerNorm): LayerNorm((768,), eps=1e-12, elementwise_affine=True)\n",
       "                (dropout): Dropout(p=0.1, inplace=False)\n",
       "              )\n",
       "            )\n",
       "            (intermediate): BertIntermediate(\n",
       "              (dense): Linear(in_features=768, out_features=3072, bias=True)\n",
       "            )\n",
       "            (output): BertOutput(\n",
       "              (dense): Linear(in_features=3072, out_features=768, bias=True)\n",
       "              (LayerNorm): LayerNorm((768,), eps=1e-12, elementwise_affine=True)\n",
       "              (dropout): Dropout(p=0.1, inplace=False)\n",
       "            )\n",
       "          )\n",
       "          (1): BertLayer(\n",
       "            (attention): BertAttention(\n",
       "              (self): BertSelfAttention(\n",
       "                (query): Linear(in_features=768, out_features=768, bias=True)\n",
       "                (key): Linear(in_features=768, out_features=768, bias=True)\n",
       "                (value): Linear(in_features=768, out_features=768, bias=True)\n",
       "                (dropout): Dropout(p=0.1, inplace=False)\n",
       "              )\n",
       "              (output): BertSelfOutput(\n",
       "                (dense): Linear(in_features=768, out_features=768, bias=True)\n",
       "                (LayerNorm): LayerNorm((768,), eps=1e-12, elementwise_affine=True)\n",
       "                (dropout): Dropout(p=0.1, inplace=False)\n",
       "              )\n",
       "            )\n",
       "            (intermediate): BertIntermediate(\n",
       "              (dense): Linear(in_features=768, out_features=3072, bias=True)\n",
       "            )\n",
       "            (output): BertOutput(\n",
       "              (dense): Linear(in_features=3072, out_features=768, bias=True)\n",
       "              (LayerNorm): LayerNorm((768,), eps=1e-12, elementwise_affine=True)\n",
       "              (dropout): Dropout(p=0.1, inplace=False)\n",
       "            )\n",
       "          )\n",
       "          (2): BertLayer(\n",
       "            (attention): BertAttention(\n",
       "              (self): BertSelfAttention(\n",
       "                (query): Linear(in_features=768, out_features=768, bias=True)\n",
       "                (key): Linear(in_features=768, out_features=768, bias=True)\n",
       "                (value): Linear(in_features=768, out_features=768, bias=True)\n",
       "                (dropout): Dropout(p=0.1, inplace=False)\n",
       "              )\n",
       "              (output): BertSelfOutput(\n",
       "                (dense): Linear(in_features=768, out_features=768, bias=True)\n",
       "                (LayerNorm): LayerNorm((768,), eps=1e-12, elementwise_affine=True)\n",
       "                (dropout): Dropout(p=0.1, inplace=False)\n",
       "              )\n",
       "            )\n",
       "            (intermediate): BertIntermediate(\n",
       "              (dense): Linear(in_features=768, out_features=3072, bias=True)\n",
       "            )\n",
       "            (output): BertOutput(\n",
       "              (dense): Linear(in_features=3072, out_features=768, bias=True)\n",
       "              (LayerNorm): LayerNorm((768,), eps=1e-12, elementwise_affine=True)\n",
       "              (dropout): Dropout(p=0.1, inplace=False)\n",
       "            )\n",
       "          )\n",
       "          (3): BertLayer(\n",
       "            (attention): BertAttention(\n",
       "              (self): BertSelfAttention(\n",
       "                (query): Linear(in_features=768, out_features=768, bias=True)\n",
       "                (key): Linear(in_features=768, out_features=768, bias=True)\n",
       "                (value): Linear(in_features=768, out_features=768, bias=True)\n",
       "                (dropout): Dropout(p=0.1, inplace=False)\n",
       "              )\n",
       "              (output): BertSelfOutput(\n",
       "                (dense): Linear(in_features=768, out_features=768, bias=True)\n",
       "                (LayerNorm): LayerNorm((768,), eps=1e-12, elementwise_affine=True)\n",
       "                (dropout): Dropout(p=0.1, inplace=False)\n",
       "              )\n",
       "            )\n",
       "            (intermediate): BertIntermediate(\n",
       "              (dense): Linear(in_features=768, out_features=3072, bias=True)\n",
       "            )\n",
       "            (output): BertOutput(\n",
       "              (dense): Linear(in_features=3072, out_features=768, bias=True)\n",
       "              (LayerNorm): LayerNorm((768,), eps=1e-12, elementwise_affine=True)\n",
       "              (dropout): Dropout(p=0.1, inplace=False)\n",
       "            )\n",
       "          )\n",
       "          (4): BertLayer(\n",
       "            (attention): BertAttention(\n",
       "              (self): BertSelfAttention(\n",
       "                (query): Linear(in_features=768, out_features=768, bias=True)\n",
       "                (key): Linear(in_features=768, out_features=768, bias=True)\n",
       "                (value): Linear(in_features=768, out_features=768, bias=True)\n",
       "                (dropout): Dropout(p=0.1, inplace=False)\n",
       "              )\n",
       "              (output): BertSelfOutput(\n",
       "                (dense): Linear(in_features=768, out_features=768, bias=True)\n",
       "                (LayerNorm): LayerNorm((768,), eps=1e-12, elementwise_affine=True)\n",
       "                (dropout): Dropout(p=0.1, inplace=False)\n",
       "              )\n",
       "            )\n",
       "            (intermediate): BertIntermediate(\n",
       "              (dense): Linear(in_features=768, out_features=3072, bias=True)\n",
       "            )\n",
       "            (output): BertOutput(\n",
       "              (dense): Linear(in_features=3072, out_features=768, bias=True)\n",
       "              (LayerNorm): LayerNorm((768,), eps=1e-12, elementwise_affine=True)\n",
       "              (dropout): Dropout(p=0.1, inplace=False)\n",
       "            )\n",
       "          )\n",
       "          (5): BertLayer(\n",
       "            (attention): BertAttention(\n",
       "              (self): BertSelfAttention(\n",
       "                (query): Linear(in_features=768, out_features=768, bias=True)\n",
       "                (key): Linear(in_features=768, out_features=768, bias=True)\n",
       "                (value): Linear(in_features=768, out_features=768, bias=True)\n",
       "                (dropout): Dropout(p=0.1, inplace=False)\n",
       "              )\n",
       "              (output): BertSelfOutput(\n",
       "                (dense): Linear(in_features=768, out_features=768, bias=True)\n",
       "                (LayerNorm): LayerNorm((768,), eps=1e-12, elementwise_affine=True)\n",
       "                (dropout): Dropout(p=0.1, inplace=False)\n",
       "              )\n",
       "            )\n",
       "            (intermediate): BertIntermediate(\n",
       "              (dense): Linear(in_features=768, out_features=3072, bias=True)\n",
       "            )\n",
       "            (output): BertOutput(\n",
       "              (dense): Linear(in_features=3072, out_features=768, bias=True)\n",
       "              (LayerNorm): LayerNorm((768,), eps=1e-12, elementwise_affine=True)\n",
       "              (dropout): Dropout(p=0.1, inplace=False)\n",
       "            )\n",
       "          )\n",
       "          (6): BertLayer(\n",
       "            (attention): BertAttention(\n",
       "              (self): BertSelfAttention(\n",
       "                (query): Linear(in_features=768, out_features=768, bias=True)\n",
       "                (key): Linear(in_features=768, out_features=768, bias=True)\n",
       "                (value): Linear(in_features=768, out_features=768, bias=True)\n",
       "                (dropout): Dropout(p=0.1, inplace=False)\n",
       "              )\n",
       "              (output): BertSelfOutput(\n",
       "                (dense): Linear(in_features=768, out_features=768, bias=True)\n",
       "                (LayerNorm): LayerNorm((768,), eps=1e-12, elementwise_affine=True)\n",
       "                (dropout): Dropout(p=0.1, inplace=False)\n",
       "              )\n",
       "            )\n",
       "            (intermediate): BertIntermediate(\n",
       "              (dense): Linear(in_features=768, out_features=3072, bias=True)\n",
       "            )\n",
       "            (output): BertOutput(\n",
       "              (dense): Linear(in_features=3072, out_features=768, bias=True)\n",
       "              (LayerNorm): LayerNorm((768,), eps=1e-12, elementwise_affine=True)\n",
       "              (dropout): Dropout(p=0.1, inplace=False)\n",
       "            )\n",
       "          )\n",
       "          (7): BertLayer(\n",
       "            (attention): BertAttention(\n",
       "              (self): BertSelfAttention(\n",
       "                (query): Linear(in_features=768, out_features=768, bias=True)\n",
       "                (key): Linear(in_features=768, out_features=768, bias=True)\n",
       "                (value): Linear(in_features=768, out_features=768, bias=True)\n",
       "                (dropout): Dropout(p=0.1, inplace=False)\n",
       "              )\n",
       "              (output): BertSelfOutput(\n",
       "                (dense): Linear(in_features=768, out_features=768, bias=True)\n",
       "                (LayerNorm): LayerNorm((768,), eps=1e-12, elementwise_affine=True)\n",
       "                (dropout): Dropout(p=0.1, inplace=False)\n",
       "              )\n",
       "            )\n",
       "            (intermediate): BertIntermediate(\n",
       "              (dense): Linear(in_features=768, out_features=3072, bias=True)\n",
       "            )\n",
       "            (output): BertOutput(\n",
       "              (dense): Linear(in_features=3072, out_features=768, bias=True)\n",
       "              (LayerNorm): LayerNorm((768,), eps=1e-12, elementwise_affine=True)\n",
       "              (dropout): Dropout(p=0.1, inplace=False)\n",
       "            )\n",
       "          )\n",
       "          (8): BertLayer(\n",
       "            (attention): BertAttention(\n",
       "              (self): BertSelfAttention(\n",
       "                (query): Linear(in_features=768, out_features=768, bias=True)\n",
       "                (key): Linear(in_features=768, out_features=768, bias=True)\n",
       "                (value): Linear(in_features=768, out_features=768, bias=True)\n",
       "                (dropout): Dropout(p=0.1, inplace=False)\n",
       "              )\n",
       "              (output): BertSelfOutput(\n",
       "                (dense): Linear(in_features=768, out_features=768, bias=True)\n",
       "                (LayerNorm): LayerNorm((768,), eps=1e-12, elementwise_affine=True)\n",
       "                (dropout): Dropout(p=0.1, inplace=False)\n",
       "              )\n",
       "            )\n",
       "            (intermediate): BertIntermediate(\n",
       "              (dense): Linear(in_features=768, out_features=3072, bias=True)\n",
       "            )\n",
       "            (output): BertOutput(\n",
       "              (dense): Linear(in_features=3072, out_features=768, bias=True)\n",
       "              (LayerNorm): LayerNorm((768,), eps=1e-12, elementwise_affine=True)\n",
       "              (dropout): Dropout(p=0.1, inplace=False)\n",
       "            )\n",
       "          )\n",
       "          (9): BertLayer(\n",
       "            (attention): BertAttention(\n",
       "              (self): BertSelfAttention(\n",
       "                (query): Linear(in_features=768, out_features=768, bias=True)\n",
       "                (key): Linear(in_features=768, out_features=768, bias=True)\n",
       "                (value): Linear(in_features=768, out_features=768, bias=True)\n",
       "                (dropout): Dropout(p=0.1, inplace=False)\n",
       "              )\n",
       "              (output): BertSelfOutput(\n",
       "                (dense): Linear(in_features=768, out_features=768, bias=True)\n",
       "                (LayerNorm): LayerNorm((768,), eps=1e-12, elementwise_affine=True)\n",
       "                (dropout): Dropout(p=0.1, inplace=False)\n",
       "              )\n",
       "            )\n",
       "            (intermediate): BertIntermediate(\n",
       "              (dense): Linear(in_features=768, out_features=3072, bias=True)\n",
       "            )\n",
       "            (output): BertOutput(\n",
       "              (dense): Linear(in_features=3072, out_features=768, bias=True)\n",
       "              (LayerNorm): LayerNorm((768,), eps=1e-12, elementwise_affine=True)\n",
       "              (dropout): Dropout(p=0.1, inplace=False)\n",
       "            )\n",
       "          )\n",
       "          (10): BertLayer(\n",
       "            (attention): BertAttention(\n",
       "              (self): BertSelfAttention(\n",
       "                (query): Linear(in_features=768, out_features=768, bias=True)\n",
       "                (key): Linear(in_features=768, out_features=768, bias=True)\n",
       "                (value): Linear(in_features=768, out_features=768, bias=True)\n",
       "                (dropout): Dropout(p=0.1, inplace=False)\n",
       "              )\n",
       "              (output): BertSelfOutput(\n",
       "                (dense): Linear(in_features=768, out_features=768, bias=True)\n",
       "                (LayerNorm): LayerNorm((768,), eps=1e-12, elementwise_affine=True)\n",
       "                (dropout): Dropout(p=0.1, inplace=False)\n",
       "              )\n",
       "            )\n",
       "            (intermediate): BertIntermediate(\n",
       "              (dense): Linear(in_features=768, out_features=3072, bias=True)\n",
       "            )\n",
       "            (output): BertOutput(\n",
       "              (dense): Linear(in_features=3072, out_features=768, bias=True)\n",
       "              (LayerNorm): LayerNorm((768,), eps=1e-12, elementwise_affine=True)\n",
       "              (dropout): Dropout(p=0.1, inplace=False)\n",
       "            )\n",
       "          )\n",
       "          (11): BertLayer(\n",
       "            (attention): BertAttention(\n",
       "              (self): BertSelfAttention(\n",
       "                (query): Linear(in_features=768, out_features=768, bias=True)\n",
       "                (key): Linear(in_features=768, out_features=768, bias=True)\n",
       "                (value): Linear(in_features=768, out_features=768, bias=True)\n",
       "                (dropout): Dropout(p=0.1, inplace=False)\n",
       "              )\n",
       "              (output): BertSelfOutput(\n",
       "                (dense): Linear(in_features=768, out_features=768, bias=True)\n",
       "                (LayerNorm): LayerNorm((768,), eps=1e-12, elementwise_affine=True)\n",
       "                (dropout): Dropout(p=0.1, inplace=False)\n",
       "              )\n",
       "            )\n",
       "            (intermediate): BertIntermediate(\n",
       "              (dense): Linear(in_features=768, out_features=3072, bias=True)\n",
       "            )\n",
       "            (output): BertOutput(\n",
       "              (dense): Linear(in_features=3072, out_features=768, bias=True)\n",
       "              (LayerNorm): LayerNorm((768,), eps=1e-12, elementwise_affine=True)\n",
       "              (dropout): Dropout(p=0.1, inplace=False)\n",
       "            )\n",
       "          )\n",
       "        )\n",
       "      )\n",
       "      (pooler): BertPooler(\n",
       "        (dense): Linear(in_features=768, out_features=768, bias=True)\n",
       "        (activation): Tanh()\n",
       "      )\n",
       "    )\n",
       "  )\n",
       "  (hidden_to_mu): Linear(in_features=135, out_features=128, bias=True)\n",
       "  (hidden_to_logvar): Linear(in_features=135, out_features=128, bias=True)\n",
       "  (hidden_linear): Linear(in_features=768, out_features=128, bias=True)\n",
       "  (classifier): Linear(in_features=768, out_features=7, bias=True)\n",
       "  (predictor): Predictor(\n",
       "    (embedding): Linear(in_features=7, out_features=128, bias=False)\n",
       "    (lstm): LSTM(128, 64, batch_first=True)\n",
       "    (w_proj): Linear(in_features=128, out_features=128, bias=True)\n",
       "    (softmax): Softmax(dim=2)\n",
       "    (predict): Linear(in_features=64, out_features=5, bias=True)\n",
       "  )\n",
       "  (generator): Generator(\n",
       "    (lstm): LSTM(903, 1024, batch_first=True)\n",
       "    (linear): Linear(in_features=1024, out_features=30522, bias=True)\n",
       "  )\n",
       ")"
      ]
     },
     "execution_count": 106,
     "metadata": {},
     "output_type": "execute_result"
    }
   ],
   "source": [
    "model.eval()"
   ]
  },
  {
   "cell_type": "code",
   "execution_count": 107,
   "metadata": {
    "scrolled": true
   },
   "outputs": [],
   "source": [
    "count = 0\n",
    "correct = 0\n",
    "\n",
    "score_vectors = []\n",
    "doc_length = []\n",
    "strategies = []\n",
    "\n",
    "with torch.no_grad():\n",
    "    for batch_idx, (x, l, y, mask1, mask2, mask3, mask4, mid, sent_len, doc_len) in enumerate(val_loader):\n",
    "\n",
    "        batch_size = l.shape[0]\n",
    "        seq_num = x.shape[1]\n",
    "        seq_len = x.shape[2]\n",
    "        \n",
    "        temp = l.view(-1, 1).long()\n",
    "        #print(temp.shape)\n",
    "        l_one_hot = torch.zeros(batch_size*seq_num, n_labels).cuda()\n",
    "        #print(l_one_hot.shape)\n",
    "        \n",
    "        for i in range(0, len(temp)):\n",
    "            if temp[i] != 10:\n",
    "                l_one_hot[i][temp[i]] = 1\n",
    "                \n",
    "        l_one_hot = l_one_hot.view(batch_size, seq_num, n_labels)\n",
    "        \n",
    "        x, doc_labels, y,  l = x.cuda(), y.cuda(), l_one_hot.cuda() , l.cuda()\n",
    "        \n",
    "        mask1, mask2 = mask1.cuda(), mask2.cuda()\n",
    "        \n",
    "        batch_size = x.shape[0]\n",
    "        seq_num = x.shape[1]\n",
    "        seq_len = x.shape[2]\n",
    "        \n",
    "        n_labels = y.shape[-1]\n",
    "\n",
    "        x = x.view(batch_size * seq_num, seq_len)\n",
    "        y = y.view(batch_size*seq_num, model.n_class)\n",
    "        mask1 = mask1.view(batch_size*seq_num)\n",
    "        mask2 = mask2.view(batch_size * seq_num)\n",
    "\n",
    "        sent_len = sent_len.view(batch_size * seq_num)\n",
    "\n",
    "        q_y, encoder_hidden = model.encode(x, sent_len)\n",
    "        \n",
    "        \n",
    "\n",
    "        y_sample = model.gumbel_softmax(q_y, 1, True)\n",
    "\n",
    "        y_in = y * mask1.view(-1, 1).float() + y_sample * mask2.view(-1, 1).float()\n",
    "        \n",
    "        \n",
    "        #print(y_in.shape)\n",
    "        #print(encoder_hidden.shape)\n",
    "        \n",
    "        hidden = torch.cat([encoder_hidden, y_in], dim = -1)\n",
    "        \n",
    "        mu = model.hidden_to_mu(hidden)\n",
    "        logvar = model.hidden_to_logvar(hidden)\n",
    "        \n",
    "        y_in2 = y * mask1.view(-1,1).float() + F.softmax(q_y, dim=-1) * mask2.view(-1,1)\n",
    "        \n",
    "        y_in3 = F.softmax(q_y, dim=-1)\n",
    "\n",
    "        z = model.gaussian_sample(mu, logvar, batch_size*seq_num)\n",
    "        \n",
    "        t, strategy_embedding = model.predictor(\n",
    "            y_in2.view(batch_size, seq_num, model.n_class), encoder_hidden.view(batch_size, seq_num, model.z_size), doc_len)\n",
    "        \n",
    "        #print(model.predictor.w_score.shape)\n",
    "        #print(model.predictor.w_score)\n",
    "        \n",
    "        _, predicted = torch.max(t.data, 1)\n",
    "        \n",
    "        correct += (np.array(predicted.cpu()) == np.array(doc_labels.cpu())).sum()\n",
    "        count += len(predicted)\n",
    "        \n",
    "        \n",
    "        score_vectors.append(model.predictor.w_score)\n",
    "        doc_length.append(doc_len)\n",
    "        strategies.append(l)\n",
    "        \n",
    "        \n",
    "        \n",
    "        \n",
    "        \n",
    "        \n",
    "    "
   ]
  },
  {
   "cell_type": "code",
   "execution_count": 108,
   "metadata": {},
   "outputs": [],
   "source": [
    "count = 0\n",
    "correct = 0\n",
    "\n",
    "score_vectors = []\n",
    "doc_length = []\n",
    "strategies = []\n",
    "\n",
    "with torch.no_grad():\n",
    "    for batch_idx, (x, l, y, mask1, mask2, mask3, mask4, mid, sent_len, doc_len) in enumerate(unlabeled_trainloader):\n",
    "\n",
    "        batch_size = l.shape[0]\n",
    "        seq_num = x.shape[1]\n",
    "        seq_len = x.shape[2]\n",
    "        \n",
    "        temp = l.view(-1, 1).long()\n",
    "        #print(temp.shape)\n",
    "        l_one_hot = torch.zeros(batch_size*seq_num, n_labels).cuda()\n",
    "        #print(l_one_hot.shape)\n",
    "        \n",
    "        for i in range(0, len(temp)):\n",
    "            if temp[i] != 10:\n",
    "                l_one_hot[i][temp[i]] = 1\n",
    "                \n",
    "        l_one_hot = l_one_hot.view(batch_size, seq_num, n_labels)\n",
    "        \n",
    "        x, doc_labels, y,  l = x.cuda(), y.cuda(), l_one_hot.cuda() , l.cuda()\n",
    "        \n",
    "        mask1, mask2 = mask1.cuda(), mask2.cuda()\n",
    "        \n",
    "        batch_size = x.shape[0]\n",
    "        seq_num = x.shape[1]\n",
    "        seq_len = x.shape[2]\n",
    "        \n",
    "        n_labels = y.shape[-1]\n",
    "\n",
    "        x = x.view(batch_size * seq_num, seq_len)\n",
    "        y = y.view(batch_size*seq_num, model.n_class)\n",
    "        mask1 = mask1.view(batch_size*seq_num)\n",
    "        mask2 = mask2.view(batch_size * seq_num)\n",
    "\n",
    "        sent_len = sent_len.view(batch_size * seq_num)\n",
    "\n",
    "        q_y, encoder_hidden = model.encode(x, sent_len)\n",
    "        \n",
    "        \n",
    "\n",
    "        y_sample = model.gumbel_softmax(q_y, 1, True)\n",
    "\n",
    "        y_in = y * mask1.view(-1, 1).float() + y_sample * mask2.view(-1, 1).float()\n",
    "        \n",
    "        \n",
    "        #print(y_in.shape)\n",
    "        #print(encoder_hidden.shape)\n",
    "        \n",
    "        hidden = torch.cat([encoder_hidden, y_in], dim = -1)\n",
    "        \n",
    "        mu = model.hidden_to_mu(hidden)\n",
    "        logvar = model.hidden_to_logvar(hidden)\n",
    "        \n",
    "        y_in2 = y * mask1.view(-1,1).float() + F.softmax(q_y, dim=-1) * mask2.view(-1,1)\n",
    "        \n",
    "        y_in3 = F.softmax(q_y, dim=-1)\n",
    "\n",
    "        z = model.gaussian_sample(mu, logvar, batch_size*seq_num)\n",
    "        \n",
    "        t, strategy_embedding = model.predictor(\n",
    "            y_in2.view(batch_size, seq_num, model.n_class), encoder_hidden.view(batch_size, seq_num, model.z_size), doc_len)\n",
    "        \n",
    "        #print(model.predictor.w_score.shape)\n",
    "        #print(model.predictor.w_score)\n",
    "        \n",
    "        _, predicted = torch.max(t.data, 1)\n",
    "        \n",
    "        correct += (np.array(predicted.cpu()) == np.array(doc_labels.cpu())).sum()\n",
    "        count += len(predicted)\n",
    "        \n",
    "        \n",
    "        score_vectors.append(model.predictor.w_score)\n",
    "        doc_length.append(doc_len)\n",
    "        strategies.append(l)"
   ]
  },
  {
   "cell_type": "code",
   "execution_count": 109,
   "metadata": {},
   "outputs": [
    {
     "data": {
      "text/plain": [
       "0.4942953020134228"
      ]
     },
     "execution_count": 109,
     "metadata": {},
     "output_type": "execute_result"
    }
   ],
   "source": [
    "correct/count"
   ]
  },
  {
   "cell_type": "code",
   "execution_count": null,
   "metadata": {},
   "outputs": [],
   "source": []
  },
  {
   "cell_type": "code",
   "execution_count": 110,
   "metadata": {
    "scrolled": true
   },
   "outputs": [],
   "source": [
    "c_score = []\n",
    "s_score = []\n",
    "for i in range(0, len(score_vectors)):\n",
    "    for j in range(0, score_vectors[i].shape[0]):\n",
    "        for m in range(0, doc_length[i][j]):\n",
    "            c_score.append(score_vectors[i][j][m][1].cpu() )\n",
    "            s_score.append(score_vectors[i][j][m][0].cpu() )\n",
    "    "
   ]
  },
  {
   "cell_type": "code",
   "execution_count": 111,
   "metadata": {},
   "outputs": [],
   "source": [
    "# Content strategy comparison\n",
    "# Strategy vs strategy"
   ]
  },
  {
   "cell_type": "code",
   "execution_count": 112,
   "metadata": {},
   "outputs": [
    {
     "data": {
      "text/plain": [
       "tensor([0.9765])"
      ]
     },
     "execution_count": 112,
     "metadata": {},
     "output_type": "execute_result"
    }
   ],
   "source": [
    "sum(c_score)/len(c_score)"
   ]
  },
  {
   "cell_type": "code",
   "execution_count": 113,
   "metadata": {},
   "outputs": [
    {
     "data": {
      "text/plain": [
       "tensor([0.0235])"
      ]
     },
     "execution_count": 113,
     "metadata": {},
     "output_type": "execute_result"
    }
   ],
   "source": [
    "sum(s_score)/len(s_score)"
   ]
  },
  {
   "cell_type": "code",
   "execution_count": 114,
   "metadata": {},
   "outputs": [],
   "source": [
    "import matplotlib.pyplot as plt\n",
    "from scipy import stats, integrate\n",
    "import seaborn as sns"
   ]
  },
  {
   "cell_type": "code",
   "execution_count": null,
   "metadata": {},
   "outputs": [],
   "source": []
  },
  {
   "cell_type": "code",
   "execution_count": 115,
   "metadata": {},
   "outputs": [
    {
     "data": {
      "text/plain": [
       "<matplotlib.axes._subplots.AxesSubplot at 0x7fdecc3e2c18>"
      ]
     },
     "execution_count": 115,
     "metadata": {},
     "output_type": "execute_result"
    },
    {
     "data": {
      "image/png": "[encoded data removed]",
      "text/plain": [
       "<Figure size 432x288 with 1 Axes>"
      ]
     },
     "metadata": {
      "needs_background": "light"
     },
     "output_type": "display_data"
    }
   ],
   "source": [
    "#sns.distplot(c_score, color=\"b\", bins=10, rug=True)\n",
    "sns.distplot(c_score, hist=False)"
   ]
  },
  {
   "cell_type": "code",
   "execution_count": 116,
   "metadata": {},
   "outputs": [
    {
     "data": {
      "text/plain": [
       "<matplotlib.axes._subplots.AxesSubplot at 0x7fde93ff9240>"
      ]
     },
     "execution_count": 116,
     "metadata": {},
     "output_type": "execute_result"
    },
    {
     "data": {
      "image/png": "[encoded data removed]",
      "text/plain": [
       "<Figure size 432x288 with 1 Axes>"
      ]
     },
     "metadata": {
      "needs_background": "light"
     },
     "output_type": "display_data"
    }
   ],
   "source": [
    "sns.distplot(s_score, hist=False, norm_hist = True)"
   ]
  },
  {
   "cell_type": "code",
   "execution_count": null,
   "metadata": {},
   "outputs": [],
   "source": []
  },
  {
   "cell_type": "code",
   "execution_count": null,
   "metadata": {},
   "outputs": [],
   "source": []
  },
  {
   "cell_type": "code",
   "execution_count": null,
   "metadata": {},
   "outputs": [],
   "source": []
  },
  {
   "cell_type": "code",
   "execution_count": null,
   "metadata": {},
   "outputs": [],
   "source": []
  }
 ],
 "metadata": {
  "kernelspec": {
   "display_name": "Python 3",
   "language": "python",
   "name": "python3"
  },
  "language_info": {
   "codemirror_mode": {
    "name": "ipython",
    "version": 3
   },
   "file_extension": ".py",
   "mimetype": "text/x-python",
   "name": "python",
   "nbconvert_exporter": "python",
   "pygments_lexer": "ipython3",
   "version": "3.6.9"
  }
 },
 "nbformat": 4,
 "nbformat_minor": 4
}
