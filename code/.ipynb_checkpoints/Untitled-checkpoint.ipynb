{
 "cells": [
  {
   "cell_type": "code",
   "execution_count": 1,
   "metadata": {},
   "outputs": [
    {
     "name": "stdout",
     "output_type": "stream",
     "text": [
      "gpu num:  1\n"
     ]
    }
   ],
   "source": [
    "import torch\n",
    "from bertVAE import *\n",
    "import pickle\n",
    "\n",
    "import os\n",
    "os.environ['CUDA_VISIBLE_DEVICES'] = '7'\n",
    "device = torch.device(\"cuda\" if torch.cuda.is_available() else \"cpu\")\n",
    "n_gpu = torch.cuda.device_count()\n",
    "print(\"gpu num: \", n_gpu)"
   ]
  },
  {
   "cell_type": "code",
   "execution_count": null,
   "metadata": {},
   "outputs": [],
   "source": [
    "name_list = ['Other', 'Cred', 'Recip', 'Concret', 'Commit', 'Scar', social, 'Emo', 'Impact', 'Polite']"
   ]
  },
  {
   "cell_type": "code",
   "execution_count": 4,
   "metadata": {},
   "outputs": [],
   "source": [
    "model = torch.load('../data/kiva/model_last.pkl')\n",
    "labels_ = ['Other', 'Cred', 'Concret', 'Commit', 'Scar', 'Impact', 'Polite']"
   ]
  },
  {
   "cell_type": "code",
   "execution_count": 3,
   "metadata": {},
   "outputs": [],
   "source": [
    "model = torch.load('../data/raop/model_last.pkl')\n",
    "labels_ = ['Other', 'Recip', 'Concret', 'Scar', 'Emo', 'Impact', 'Polite']"
   ]
  },
  {
   "cell_type": "code",
   "execution_count": 2,
   "metadata": {},
   "outputs": [],
   "source": [
    "model = torch.load('../data/borrow/model.pkl')\n",
    "labels_ = ['Other', 'Cred', 'Recip', 'Concret', 'Impact', 'Polite']"
   ]
  },
  {
   "cell_type": "code",
   "execution_count": 5,
   "metadata": {},
   "outputs": [],
   "source": [
    "a = model.predictor.embedding.weight"
   ]
  },
  {
   "cell_type": "code",
   "execution_count": 6,
   "metadata": {},
   "outputs": [],
   "source": [
    "a = a.transpose(1,0)"
   ]
  },
  {
   "cell_type": "code",
   "execution_count": 7,
   "metadata": {},
   "outputs": [
    {
     "data": {
      "text/plain": [
       "7"
      ]
     },
     "execution_count": 7,
     "metadata": {},
     "output_type": "execute_result"
    }
   ],
   "source": [
    "a.shape[0]"
   ]
  },
  {
   "cell_type": "code",
   "execution_count": 23,
   "metadata": {},
   "outputs": [],
   "source": [
    "from sklearn.manifold import TSNE"
   ]
  },
  {
   "cell_type": "code",
   "execution_count": 24,
   "metadata": {},
   "outputs": [],
   "source": [
    "import numpy as np"
   ]
  },
  {
   "cell_type": "code",
   "execution_count": 25,
   "metadata": {},
   "outputs": [],
   "source": [
    "import matplotlib.pyplot as plt"
   ]
  },
  {
   "cell_type": "code",
   "execution_count": 26,
   "metadata": {},
   "outputs": [],
   "source": [
    "def tsne_plot():\n",
    "    \"Creates and TSNE model and plots it\"\n",
    "    labels = []\n",
    "    tokens = []\n",
    "\n",
    "    for i in range(0, a.shape[0]):\n",
    "        tokens.append(a[i].cpu().detach().numpy())\n",
    "        labels.append(labels_[i])\n",
    "    \n",
    "    tsne_model = TSNE(n_components=2)\n",
    "    new_values = tsne_model.fit_transform(tokens)\n",
    "\n",
    "    x = []\n",
    "    y = []\n",
    "    for value in new_values:\n",
    "        x.append(value[0])\n",
    "        y.append(value[1])\n",
    "        \n",
    "    plt.figure(figsize=(4, 4)) \n",
    "    for i in range(len(x)):\n",
    "        plt.scatter(x[i],y[i])\n",
    "        plt.annotate(labels[i],\n",
    "                     xy=(x[i], y[i]),\n",
    "                     xytext=(5, 2),\n",
    "                     textcoords='offset points',\n",
    "                     ha='right',\n",
    "                     va='bottom')\n",
    "    plt.show()"
   ]
  },
  {
   "cell_type": "code",
   "execution_count": 27,
   "metadata": {},
   "outputs": [
    {
     "data": {
      "image/png": "[encoded data removed]",
      "text/plain": [
       "<Figure size 288x288 with 1 Axes>"
      ]
     },
     "metadata": {
      "needs_background": "light"
     },
     "output_type": "display_data"
    }
   ],
   "source": [
    "# kiva\n",
    "tsne_plot()"
   ]
  },
  {
   "cell_type": "code",
   "execution_count": 11,
   "metadata": {},
   "outputs": [
    {
     "data": {
      "image/png": "[encoded data removed]",
      "text/plain": [
       "<Figure size 288x288 with 1 Axes>"
      ]
     },
     "metadata": {
      "needs_background": "light"
     },
     "output_type": "display_data"
    }
   ],
   "source": [
    "#raop\n",
    "tsne_plot()"
   ]
  },
  {
   "cell_type": "code",
   "execution_count": 10,
   "metadata": {},
   "outputs": [
    {
     "data": {
      "image/png": "[encoded data removed]",
      "text/plain": [
       "<Figure size 288x288 with 1 Axes>"
      ]
     },
     "metadata": {
      "needs_background": "light"
     },
     "output_type": "display_data"
    }
   ],
   "source": [
    "#borrow\n",
    "tsne_plot()"
   ]
  },
  {
   "cell_type": "code",
   "execution_count": 8,
   "metadata": {},
   "outputs": [],
   "source": [
    "import sklearn\n",
    "labels = []\n",
    "tokens = []\n",
    "\n",
    "for i in range(0, a.shape[0]):\n",
    "    tokens.append(a[i].cpu().detach().numpy())\n",
    "    labels.append(labels_[i])\n"
   ]
  },
  {
   "cell_type": "code",
   "execution_count": 36,
   "metadata": {},
   "outputs": [],
   "source": [
    "temp = sklearn.metrics.pairwise.cosine_similarity(tokens)"
   ]
  },
  {
   "cell_type": "code",
   "execution_count": 37,
   "metadata": {},
   "outputs": [
    {
     "data": {
      "text/plain": [
       "array([[ 1.0000002 , -0.06309722,  0.09595411,  0.16097523, -0.2124594 ,\n",
       "         0.07337484, -0.05873178],\n",
       "       [-0.06309722,  0.99999976, -0.1556625 , -0.12543432, -0.11021643,\n",
       "         0.09753923, -0.08044884],\n",
       "       [ 0.09595411, -0.1556625 ,  1.        ,  0.01434172,  0.24523993,\n",
       "         0.0802242 , -0.08439709],\n",
       "       [ 0.16097523, -0.12543432,  0.01434172,  0.99999994, -0.10059468,\n",
       "         0.13785362,  0.15712813],\n",
       "       [-0.2124594 , -0.11021643,  0.24523993, -0.10059468,  0.9999999 ,\n",
       "         0.07944232,  0.04318812],\n",
       "       [ 0.07337484,  0.09753923,  0.0802242 ,  0.13785362,  0.07944232,\n",
       "         1.0000002 ,  0.00933582],\n",
       "       [-0.05873178, -0.08044884, -0.08439709,  0.15712813,  0.04318812,\n",
       "         0.00933582,  1.        ]], dtype=float32)"
      ]
     },
     "execution_count": 37,
     "metadata": {},
     "output_type": "execute_result"
    }
   ],
   "source": [
    "temp"
   ]
  },
  {
   "cell_type": "code",
   "execution_count": 34,
   "metadata": {},
   "outputs": [],
   "source": [
    "mask = np.zeros_like(temp)\n",
    "mask[np.triu_indices_from(mask)] = True"
   ]
  },
  {
   "cell_type": "code",
   "execution_count": 38,
   "metadata": {},
   "outputs": [
    {
     "data": {
      "image/png": "[encoded data removed]",
      "text/plain": [
       "<Figure size 432x288 with 2 Axes>"
      ]
     },
     "metadata": {},
     "output_type": "display_data"
    }
   ],
   "source": [
    "import numpy as np\n",
    "import seaborn as sns\n",
    "import matplotlib.pyplot as plt\n",
    "sns.set()\n",
    "with sns.axes_style(\"white\"):\n",
    "    ax = sns.heatmap(temp, vmin=0, vmax=1, xticklabels = labels, yticklabels = labels,center = 0,mask=mask, cmap=\"YlGnBu\")\n",
    "    plt.show()"
   ]
  },
  {
   "cell_type": "code",
   "execution_count": 33,
   "metadata": {},
   "outputs": [],
   "source": [
    "import numpy as np\n",
    "import seaborn as sns\n",
    "import matplotlib.pyplot as plt\n",
    "import sklearn\n",
    "import torch\n",
    "\n",
    "import pickle\n",
    "sns.set()\n",
    "def plot(dataset):\n",
    "    if dataset == 'kiva':\n",
    "        model = torch.load('../data/kiva/model_last.pkl')\n",
    "        labels_ = ['Other', 'Cre', 'Con', 'Com', 'Sca', 'Imp', 'Pol']\n",
    "    elif dataset == 'raop':\n",
    "        model = torch.load('../data/raop/model_last.pkl')\n",
    "        labels_ = ['Other', 'Rec', 'Con', 'Sca', 'Emo', 'Imp', 'Pol']\n",
    "    elif dataset == 'borrow':\n",
    "        model = torch.load('../data/borrow/model_last.pkl')\n",
    "        labels_ = ['Other', 'Cre', 'Rec', 'Con', 'Imp', 'Pol']\n",
    "        \n",
    "    a = model.predictor.embedding.weight\n",
    "    a = a.transpose(1,0)\n",
    "    labels = []\n",
    "    tokens = []\n",
    "\n",
    "    for i in range(1, a.shape[0]):\n",
    "        tokens.append(a[i].cpu().detach().numpy())\n",
    "        labels.append(labels_[i])\n",
    "    \n",
    "    with open(dataset + '_embed.pkl', 'wb') as f:\n",
    "        pickle.dump({'labels': labels, 'tokens':tokens}, f)\n",
    "    \n",
    "    temp = sklearn.metrics.pairwise.cosine_similarity(tokens)\n",
    "    mask = np.zeros_like(temp)\n",
    "    mask[np.triu_indices_from(mask)] = True\n",
    "\n",
    "    \n",
    "    with sns.axes_style(\"white\"):\n",
    "        ax = sns.heatmap(temp, vmin=0, vmax=0.5, xticklabels = labels, yticklabels = labels,center = 0.1,mask=mask, cmap=\"YlGnBu\")\n",
    "        plt.show()\n",
    "\n",
    "        \n",
    "        \n",
    "        \n",
    "        "
   ]
  },
  {
   "cell_type": "code",
   "execution_count": 34,
   "metadata": {},
   "outputs": [
    {
     "data": {
      "image/png": "[encoded data removed]",
      "text/plain": [
       "<Figure size 432x288 with 2 Axes>"
      ]
     },
     "metadata": {},
     "output_type": "display_data"
    }
   ],
   "source": [
    "plot('kiva')"
   ]
  },
  {
   "cell_type": "code",
   "execution_count": 35,
   "metadata": {},
   "outputs": [
    {
     "data": {
      "image/png": "[encoded data removed]",
      "text/plain": [
       "<Figure size 432x288 with 2 Axes>"
      ]
     },
     "metadata": {},
     "output_type": "display_data"
    }
   ],
   "source": [
    "plot('raop')"
   ]
  },
  {
   "cell_type": "code",
   "execution_count": 36,
   "metadata": {},
   "outputs": [
    {
     "data": {
      "image/png": "[encoded data removed]",
      "text/plain": [
       "<Figure size 432x288 with 2 Axes>"
      ]
     },
     "metadata": {},
     "output_type": "display_data"
    }
   ],
   "source": [
    "plot('borrow')"
   ]
  },
  {
   "cell_type": "code",
   "execution_count": 2,
   "metadata": {},
   "outputs": [],
   "source": [
    "import torch"
   ]
  },
  {
   "cell_type": "code",
   "execution_count": 3,
   "metadata": {},
   "outputs": [],
   "source": [
    "a = torch.tensor([[0.6, 0.4], [0.3, 0.7], [0.5, 0.5]])"
   ]
  },
  {
   "cell_type": "code",
   "execution_count": 5,
   "metadata": {},
   "outputs": [],
   "source": [
    "a = a.unsqueeze(-1)"
   ]
  },
  {
   "cell_type": "code",
   "execution_count": 7,
   "metadata": {
    "scrolled": true
   },
   "outputs": [],
   "source": [
    "b = torch.ones([3,3])"
   ]
  },
  {
   "cell_type": "code",
   "execution_count": 13,
   "metadata": {},
   "outputs": [],
   "source": [
    "c = torch.ones([3,3])"
   ]
  },
  {
   "cell_type": "code",
   "execution_count": 14,
   "metadata": {},
   "outputs": [],
   "source": [
    "d = torch.cat([b.unsqueeze(1), c.unsqueeze(1)], dim = 1)"
   ]
  },
  {
   "cell_type": "code",
   "execution_count": 15,
   "metadata": {},
   "outputs": [],
   "source": [
    "e = d.mul(a)"
   ]
  },
  {
   "cell_type": "code",
   "execution_count": 16,
   "metadata": {},
   "outputs": [
    {
     "data": {
      "text/plain": [
       "tensor([[[0.6000, 0.6000, 0.6000],\n",
       "         [0.4000, 0.4000, 0.4000]],\n",
       "\n",
       "        [[0.3000, 0.3000, 0.3000],\n",
       "         [0.7000, 0.7000, 0.7000]],\n",
       "\n",
       "        [[0.5000, 0.5000, 0.5000],\n",
       "         [0.5000, 0.5000, 0.5000]]])"
      ]
     },
     "execution_count": 16,
     "metadata": {},
     "output_type": "execute_result"
    }
   ],
   "source": [
    "e"
   ]
  },
  {
   "cell_type": "code",
   "execution_count": 17,
   "metadata": {},
   "outputs": [
    {
     "data": {
      "text/plain": [
       "tensor([[1., 1., 1.],\n",
       "        [1., 1., 1.],\n",
       "        [1., 1., 1.]])"
      ]
     },
     "execution_count": 17,
     "metadata": {},
     "output_type": "execute_result"
    }
   ],
   "source": [
    "torch.sum(e, dim = 1)"
   ]
  },
  {
   "cell_type": "code",
   "execution_count": 1,
   "metadata": {},
   "outputs": [],
   "source": [
    "import numpy as np\n",
    "import scipy.stats\n",
    "\n",
    "\n",
    "def mean_confidence_interval(data, confidence=0.95):\n",
    "    a = 1.0 * np.array(data)\n",
    "    n = len(a)\n",
    "    m, se = np.mean(a), scipy.stats.sem(a)\n",
    "    h = se * scipy.stats.t.ppf((1 + confidence) / 2., n-1)\n",
    "    return m, h"
   ]
  },
  {
   "cell_type": "code",
   "execution_count": 2,
   "metadata": {},
   "outputs": [
    {
     "data": {
      "text/plain": [
       "(0.8335349999999999, 0.0031328782267582363)"
      ]
     },
     "execution_count": 2,
     "metadata": {},
     "output_type": "execute_result"
    }
   ],
   "source": [
    "mean_confidence_interval([0.83538, 0.8311,  0.8328, 0.83486])"
   ]
  },
  {
   "cell_type": "code",
   "execution_count": 3,
   "metadata": {},
   "outputs": [],
   "source": [
    "a = [0.81896, 0.81478, 0.81392, 0.818107, 0.81559]"
   ]
  },
  {
   "cell_type": "code",
   "execution_count": 5,
   "metadata": {},
   "outputs": [
    {
     "data": {
      "text/plain": [
       "(0.8162714, 0.002692984244185628)"
      ]
     },
     "execution_count": 5,
     "metadata": {},
     "output_type": "execute_result"
    }
   ],
   "source": [
    "mean_confidence_interval(a)"
   ]
  },
  {
   "cell_type": "code",
   "execution_count": null,
   "metadata": {},
   "outputs": [],
   "source": [
    "a = [0.8052, 0.8038, 0.8082, ]"
   ]
  }
 ],
 "metadata": {
  "kernelspec": {
   "display_name": "Python 3",
   "language": "python",
   "name": "python3"
  },
  "language_info": {
   "codemirror_mode": {
    "name": "ipython",
    "version": 3
   },
   "file_extension": ".py",
   "mimetype": "text/x-python",
   "name": "python",
   "nbconvert_exporter": "python",
   "pygments_lexer": "ipython3",
   "version": "3.6.10"
  }
 },
 "nbformat": 4,
 "nbformat_minor": 4
}
